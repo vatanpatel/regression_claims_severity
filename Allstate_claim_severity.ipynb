{
 "cells": [
  {
   "cell_type": "code",
   "execution_count": 1,
   "metadata": {
    "_cell_guid": "b1076dfc-b9ad-4769-8c92-a6c4dae69d19",
    "_uuid": "8f2839f25d086af736a60e9eeb907d3b93b6e0e5"
   },
   "outputs": [],
   "source": [
    "## Let's import all the lubraries\n",
    "\n",
    "import pandas as pd\n",
    "import numpy as np\n",
    "import matplotlib as plt\n",
    "import seaborn as sns\n",
    "%matplotlib inline\n",
    "sns.set_style('whitegrid')"
   ]
  },
  {
   "cell_type": "code",
   "execution_count": 2,
   "metadata": {
    "_cell_guid": "79c7e3d0-c299-4dcb-8224-4455121ee9b0",
    "_uuid": "d629ff2d2480ee46fbb7e2d37f6b5fab8052498a"
   },
   "outputs": [],
   "source": [
    "## Let's import our train and test data\n",
    "\n",
    "train = pd.read_csv('train.csv')\n",
    "test = pd.read_csv('test.csv')"
   ]
  },
  {
   "cell_type": "code",
   "execution_count": 3,
   "metadata": {},
   "outputs": [
    {
     "data": {
      "text/plain": [
       "<matplotlib.axes._subplots.AxesSubplot at 0x7faef8bbcd10>"
      ]
     },
     "execution_count": 3,
     "metadata": {},
     "output_type": "execute_result"
    },
    {
     "data": {
      "image/png": "[encoded data removed]",
      "text/plain": [
       "<Figure size 432x288 with 1 Axes>"
      ]
     },
     "metadata": {},
     "output_type": "display_data"
    }
   ],
   "source": [
    "## We plot our label column and see that the data is highly skewed. \n",
    "## Most of the machine learning algorithms assume normal distrbution.\n",
    "## There are multiple ways to do this. One of the way is to take log.\n",
    "\n",
    "sns.distplot(train['loss'])"
   ]
  },
  {
   "cell_type": "code",
   "execution_count": 4,
   "metadata": {},
   "outputs": [],
   "source": [
    "## Lets us see how the log of our data looks like\n",
    "\n",
    "y = np.log1p(train['loss'])"
   ]
  },
  {
   "cell_type": "code",
   "execution_count": 5,
   "metadata": {},
   "outputs": [
    {
     "data": {
      "text/plain": [
       "<matplotlib.axes._subplots.AxesSubplot at 0x7faec8f34790>"
      ]
     },
     "execution_count": 5,
     "metadata": {},
     "output_type": "execute_result"
    },
    {
     "data": {
      "image/png": "[encoded data removed]",
      "text/plain": [
       "<Figure size 432x288 with 1 Axes>"
      ]
     },
     "metadata": {},
     "output_type": "display_data"
    }
   ],
   "source": [
    "## We see that after taking the log, the data looks like a normal distribution.\n",
    "\n",
    "sns.distplot(y)"
   ]
  },
  {
   "cell_type": "code",
   "execution_count": 6,
   "metadata": {},
   "outputs": [
    {
     "data": {
      "text/html": [
       "<div>\n",
       "<style scoped>\n",
       "    .dataframe tbody tr th:only-of-type {\n",
       "        vertical-align: middle;\n",
       "    }\n",
       "\n",
       "    .dataframe tbody tr th {\n",
       "        vertical-align: top;\n",
       "    }\n",
       "\n",
       "    .dataframe thead th {\n",
       "        text-align: right;\n",
       "    }\n",
       "</style>\n",
       "<table border=\"1\" class=\"dataframe\">\n",
       "  <thead>\n",
       "    <tr style=\"text-align: right;\">\n",
       "      <th></th>\n",
       "      <th>id</th>\n",
       "      <th>cat1</th>\n",
       "      <th>cat2</th>\n",
       "      <th>cat3</th>\n",
       "      <th>cat4</th>\n",
       "      <th>cat5</th>\n",
       "      <th>cat6</th>\n",
       "      <th>cat7</th>\n",
       "      <th>cat8</th>\n",
       "      <th>cat9</th>\n",
       "      <th>...</th>\n",
       "      <th>cont5</th>\n",
       "      <th>cont6</th>\n",
       "      <th>cont7</th>\n",
       "      <th>cont8</th>\n",
       "      <th>cont9</th>\n",
       "      <th>cont10</th>\n",
       "      <th>cont11</th>\n",
       "      <th>cont12</th>\n",
       "      <th>cont13</th>\n",
       "      <th>cont14</th>\n",
       "    </tr>\n",
       "  </thead>\n",
       "  <tbody>\n",
       "    <tr>\n",
       "      <th>0</th>\n",
       "      <td>1</td>\n",
       "      <td>A</td>\n",
       "      <td>B</td>\n",
       "      <td>A</td>\n",
       "      <td>B</td>\n",
       "      <td>A</td>\n",
       "      <td>A</td>\n",
       "      <td>A</td>\n",
       "      <td>A</td>\n",
       "      <td>B</td>\n",
       "      <td>...</td>\n",
       "      <td>0.310061</td>\n",
       "      <td>0.718367</td>\n",
       "      <td>0.335060</td>\n",
       "      <td>0.30260</td>\n",
       "      <td>0.67135</td>\n",
       "      <td>0.83510</td>\n",
       "      <td>0.569745</td>\n",
       "      <td>0.594646</td>\n",
       "      <td>0.822493</td>\n",
       "      <td>0.714843</td>\n",
       "    </tr>\n",
       "    <tr>\n",
       "      <th>1</th>\n",
       "      <td>2</td>\n",
       "      <td>A</td>\n",
       "      <td>B</td>\n",
       "      <td>A</td>\n",
       "      <td>A</td>\n",
       "      <td>A</td>\n",
       "      <td>A</td>\n",
       "      <td>A</td>\n",
       "      <td>A</td>\n",
       "      <td>B</td>\n",
       "      <td>...</td>\n",
       "      <td>0.885834</td>\n",
       "      <td>0.438917</td>\n",
       "      <td>0.436585</td>\n",
       "      <td>0.60087</td>\n",
       "      <td>0.35127</td>\n",
       "      <td>0.43919</td>\n",
       "      <td>0.338312</td>\n",
       "      <td>0.366307</td>\n",
       "      <td>0.611431</td>\n",
       "      <td>0.304496</td>\n",
       "    </tr>\n",
       "    <tr>\n",
       "      <th>2</th>\n",
       "      <td>5</td>\n",
       "      <td>A</td>\n",
       "      <td>B</td>\n",
       "      <td>A</td>\n",
       "      <td>A</td>\n",
       "      <td>B</td>\n",
       "      <td>A</td>\n",
       "      <td>A</td>\n",
       "      <td>A</td>\n",
       "      <td>B</td>\n",
       "      <td>...</td>\n",
       "      <td>0.397069</td>\n",
       "      <td>0.289648</td>\n",
       "      <td>0.315545</td>\n",
       "      <td>0.27320</td>\n",
       "      <td>0.26076</td>\n",
       "      <td>0.32446</td>\n",
       "      <td>0.381398</td>\n",
       "      <td>0.373424</td>\n",
       "      <td>0.195709</td>\n",
       "      <td>0.774425</td>\n",
       "    </tr>\n",
       "    <tr>\n",
       "      <th>3</th>\n",
       "      <td>10</td>\n",
       "      <td>B</td>\n",
       "      <td>B</td>\n",
       "      <td>A</td>\n",
       "      <td>B</td>\n",
       "      <td>A</td>\n",
       "      <td>A</td>\n",
       "      <td>A</td>\n",
       "      <td>A</td>\n",
       "      <td>B</td>\n",
       "      <td>...</td>\n",
       "      <td>0.422268</td>\n",
       "      <td>0.440945</td>\n",
       "      <td>0.391128</td>\n",
       "      <td>0.31796</td>\n",
       "      <td>0.32128</td>\n",
       "      <td>0.44467</td>\n",
       "      <td>0.327915</td>\n",
       "      <td>0.321570</td>\n",
       "      <td>0.605077</td>\n",
       "      <td>0.602642</td>\n",
       "    </tr>\n",
       "    <tr>\n",
       "      <th>4</th>\n",
       "      <td>11</td>\n",
       "      <td>A</td>\n",
       "      <td>B</td>\n",
       "      <td>A</td>\n",
       "      <td>B</td>\n",
       "      <td>A</td>\n",
       "      <td>A</td>\n",
       "      <td>A</td>\n",
       "      <td>A</td>\n",
       "      <td>B</td>\n",
       "      <td>...</td>\n",
       "      <td>0.704268</td>\n",
       "      <td>0.178193</td>\n",
       "      <td>0.247408</td>\n",
       "      <td>0.24564</td>\n",
       "      <td>0.22089</td>\n",
       "      <td>0.21230</td>\n",
       "      <td>0.204687</td>\n",
       "      <td>0.202213</td>\n",
       "      <td>0.246011</td>\n",
       "      <td>0.432606</td>\n",
       "    </tr>\n",
       "  </tbody>\n",
       "</table>\n",
       "<p>5 rows × 131 columns</p>\n",
       "</div>"
      ],
      "text/plain": [
       "   id cat1 cat2 cat3 cat4 cat5 cat6 cat7 cat8 cat9  ...     cont5     cont6  \\\n",
       "0   1    A    B    A    B    A    A    A    A    B  ...  0.310061  0.718367   \n",
       "1   2    A    B    A    A    A    A    A    A    B  ...  0.885834  0.438917   \n",
       "2   5    A    B    A    A    B    A    A    A    B  ...  0.397069  0.289648   \n",
       "3  10    B    B    A    B    A    A    A    A    B  ...  0.422268  0.440945   \n",
       "4  11    A    B    A    B    A    A    A    A    B  ...  0.704268  0.178193   \n",
       "\n",
       "      cont7    cont8    cont9   cont10    cont11    cont12    cont13    cont14  \n",
       "0  0.335060  0.30260  0.67135  0.83510  0.569745  0.594646  0.822493  0.714843  \n",
       "1  0.436585  0.60087  0.35127  0.43919  0.338312  0.366307  0.611431  0.304496  \n",
       "2  0.315545  0.27320  0.26076  0.32446  0.381398  0.373424  0.195709  0.774425  \n",
       "3  0.391128  0.31796  0.32128  0.44467  0.327915  0.321570  0.605077  0.602642  \n",
       "4  0.247408  0.24564  0.22089  0.21230  0.204687  0.202213  0.246011  0.432606  \n",
       "\n",
       "[5 rows x 131 columns]"
      ]
     },
     "execution_count": 6,
     "metadata": {},
     "output_type": "execute_result"
    }
   ],
   "source": [
    "## We remove our label column that we saved in y. \n",
    "\n",
    "train.drop('loss',axis = 1, inplace = True)\n",
    "train.head()"
   ]
  },
  {
   "cell_type": "code",
   "execution_count": 7,
   "metadata": {},
   "outputs": [],
   "source": [
    "## We merge our train and test data\n",
    "\n",
    "data = pd.concat([train, test]).drop('id', axis = 1)"
   ]
  },
  {
   "cell_type": "code",
   "execution_count": 8,
   "metadata": {},
   "outputs": [
    {
     "name": "stdout",
     "output_type": "stream",
     "text": [
      "cat99\n",
      "17\n",
      "cat100\n",
      "15\n",
      "cat101\n",
      "19\n",
      "cat103\n",
      "14\n",
      "cat104\n",
      "17\n",
      "cat105\n",
      "20\n",
      "cat106\n",
      "18\n",
      "cat107\n",
      "20\n",
      "cat108\n",
      "11\n",
      "cat109\n",
      "85\n",
      "cat110\n",
      "134\n",
      "cat111\n",
      "17\n",
      "cat112\n",
      "51\n",
      "cat113\n",
      "63\n",
      "cat114\n",
      "19\n",
      "cat115\n",
      "23\n",
      "cat116\n",
      "349\n"
     ]
    }
   ],
   "source": [
    "## We now check for categorical columns that have more that 10 categories.\n",
    "## We need to deal with high cardinality as onehot encoding will lead to a lot of features.\n",
    "## This would lead to the curse of dimensionality. \n",
    "\n",
    "for x in data.columns[data.dtypes == 'object']:\n",
    "    if data[x].nunique() > 10:\n",
    "        print(x)\n",
    "        print(data[x].nunique())\n",
    "    else:\n",
    "        next"
   ]
  },
  {
   "cell_type": "code",
   "execution_count": 9,
   "metadata": {},
   "outputs": [
    {
     "data": {
      "text/plain": [
       "cat99\n",
       "P    132100\n",
       "T    121619\n",
       "R     17045\n",
       "D     14583\n",
       "S     11714\n",
       "N      4771\n",
       "K      4533\n",
       "F      4450\n",
       "E      1756\n",
       "C       542\n",
       "J       416\n",
       "H       158\n",
       "M        79\n",
       "I        64\n",
       "G        29\n",
       "O         4\n",
       "U         1\n",
       "Name: cat1, dtype: int64"
      ]
     },
     "execution_count": 9,
     "metadata": {},
     "output_type": "execute_result"
    }
   ],
   "source": [
    "## Now we are going to deal with all these columns one by one. We check the counts of each category in cat99 variable.\n",
    "\n",
    "data.groupby('cat99').count()['cat1'].sort_values(ascending = False)"
   ]
  },
  {
   "cell_type": "code",
   "execution_count": 10,
   "metadata": {},
   "outputs": [],
   "source": [
    "## We add all the categories with counts less than 10k into a new category named other. \n",
    "## We now have only 6 categories in cat99.\n",
    "\n",
    "ind = data.groupby('cat99').count()['cat1'].sort_values(ascending = False)[:5].index\n",
    "def fn(x):\n",
    "    if x in ind:\n",
    "        return(x)\n",
    "    else: return('Other')\n",
    "data['cat99'] = data['cat99'].apply(lambda x: fn(x))"
   ]
  },
  {
   "cell_type": "code",
   "execution_count": 11,
   "metadata": {},
   "outputs": [
    {
     "data": {
      "text/plain": [
       "cat100\n",
       "F    71817\n",
       "I    66619\n",
       "L    33238\n",
       "K    22852\n",
       "G    21574\n",
       "J    19996\n",
       "H    17797\n",
       "A    15710\n",
       "N    12703\n",
       "B    10954\n",
       "O     9544\n",
       "M     8748\n",
       "C     1345\n",
       "D      918\n",
       "E       49\n",
       "Name: cat1, dtype: int64"
      ]
     },
     "execution_count": 11,
     "metadata": {},
     "output_type": "execute_result"
    }
   ],
   "source": [
    "## similarly for cat100\n",
    "\n",
    "data.groupby('cat100').count()['cat1'].sort_values(ascending = False)"
   ]
  },
  {
   "cell_type": "code",
   "execution_count": 12,
   "metadata": {},
   "outputs": [],
   "source": [
    "ind = data.groupby('cat100').count()['cat1'].sort_values(ascending = False)[:12].index\n",
    "def fn(x):\n",
    "    if x in ind:\n",
    "        return(x)\n",
    "    else: return('Other')\n",
    "data['cat100'] = data['cat100'].apply(lambda x: fn(x))"
   ]
  },
  {
   "cell_type": "code",
   "execution_count": 13,
   "metadata": {},
   "outputs": [
    {
     "data": {
      "text/plain": [
       "cat101\n",
       "A    177924\n",
       "D     28819\n",
       "C     28215\n",
       "G     18183\n",
       "F     17021\n",
       "J     12092\n",
       "I     11080\n",
       "M      6084\n",
       "L      5233\n",
       "Q      4543\n",
       "O      4134\n",
       "S       279\n",
       "R       234\n",
       "E         8\n",
       "B         7\n",
       "K         3\n",
       "H         3\n",
       "N         1\n",
       "U         1\n",
       "Name: cat1, dtype: int64"
      ]
     },
     "execution_count": 13,
     "metadata": {},
     "output_type": "execute_result"
    }
   ],
   "source": [
    "## for cat101\n",
    "\n",
    "data.groupby('cat101').count()['cat1'].sort_values(ascending = False)"
   ]
  },
  {
   "cell_type": "code",
   "execution_count": 14,
   "metadata": {},
   "outputs": [],
   "source": [
    "ind = data.groupby('cat101').count()['cat1'].sort_values(ascending = False)[:7].index\n",
    "def fn(x):\n",
    "    if x in ind:\n",
    "        return(x)\n",
    "    else: return('Other')\n",
    "data['cat101'] = data['cat101'].apply(lambda x: fn(x))"
   ]
  },
  {
   "cell_type": "code",
   "execution_count": 15,
   "metadata": {},
   "outputs": [
    {
     "data": {
      "text/plain": [
       "cat103\n",
       "A    206019\n",
       "B     55494\n",
       "C     27792\n",
       "D     12986\n",
       "E      7535\n",
       "F      2506\n",
       "G       904\n",
       "H       330\n",
       "I       167\n",
       "J        78\n",
       "L        26\n",
       "K        23\n",
       "N         3\n",
       "M         1\n",
       "Name: cat1, dtype: int64"
      ]
     },
     "execution_count": 15,
     "metadata": {},
     "output_type": "execute_result"
    }
   ],
   "source": [
    "## for cat103\n",
    "\n",
    "data.groupby('cat103').count()['cat1'].sort_values(ascending = False)"
   ]
  },
  {
   "cell_type": "code",
   "execution_count": 16,
   "metadata": {},
   "outputs": [],
   "source": [
    "ind = data.groupby('cat103').count()['cat1'].sort_values(ascending = False)[:4].index\n",
    "def fn(x):\n",
    "    if x in ind:\n",
    "        return(x)\n",
    "    else: return('Other')\n",
    "data['cat103'] = data['cat103'].apply(lambda x: fn(x))"
   ]
  },
  {
   "cell_type": "code",
   "execution_count": 17,
   "metadata": {},
   "outputs": [
    {
     "data": {
      "text/plain": [
       "cat104\n",
       "E    71557\n",
       "G    67626\n",
       "D    45861\n",
       "F    32069\n",
       "H    28462\n",
       "K    24231\n",
       "I    18346\n",
       "C    11581\n",
       "L     5763\n",
       "J     5225\n",
       "M     1914\n",
       "O      665\n",
       "N      250\n",
       "P      136\n",
       "A      105\n",
       "B       69\n",
       "Q        4\n",
       "Name: cat1, dtype: int64"
      ]
     },
     "execution_count": 17,
     "metadata": {},
     "output_type": "execute_result"
    }
   ],
   "source": [
    "## for cat104\n",
    "\n",
    "data.groupby('cat104').count()['cat1'].sort_values(ascending = False)"
   ]
  },
  {
   "cell_type": "code",
   "execution_count": 18,
   "metadata": {},
   "outputs": [],
   "source": [
    "ind = data.groupby('cat104').count()['cat1'].sort_values(ascending = False)[:8].index\n",
    "def fn(x):\n",
    "    if x in ind:\n",
    "        return(x)\n",
    "    else: return('Other')\n",
    "data['cat104'] = data['cat104'].apply(lambda x: fn(x))"
   ]
  },
  {
   "cell_type": "code",
   "execution_count": 19,
   "metadata": {},
   "outputs": [
    {
     "data": {
      "text/plain": [
       "cat105\n",
       "E    127477\n",
       "F    104812\n",
       "G     34295\n",
       "D     20345\n",
       "H     18763\n",
       "I      4867\n",
       "J      1193\n",
       "K       842\n",
       "C       449\n",
       "M       290\n",
       "L       248\n",
       "A       127\n",
       "N        93\n",
       "P        28\n",
       "O        18\n",
       "B         6\n",
       "Q         5\n",
       "T         3\n",
       "R         2\n",
       "S         1\n",
       "Name: cat1, dtype: int64"
      ]
     },
     "execution_count": 19,
     "metadata": {},
     "output_type": "execute_result"
    }
   ],
   "source": [
    "## for cat105\n",
    "\n",
    "data.groupby('cat105').count()['cat1'].sort_values(ascending = False)"
   ]
  },
  {
   "cell_type": "code",
   "execution_count": 20,
   "metadata": {},
   "outputs": [],
   "source": [
    "ind = data.groupby('cat105').count()['cat1'].sort_values(ascending = False)[:5].index\n",
    "def fn(x):\n",
    "    if x in ind:\n",
    "        return(x)\n",
    "    else: return('Other')\n",
    "data['cat105'] = data['cat105'].apply(lambda x: fn(x))"
   ]
  },
  {
   "cell_type": "code",
   "execution_count": 21,
   "metadata": {},
   "outputs": [
    {
     "data": {
      "text/plain": [
       "cat106\n",
       "G    78180\n",
       "H    62597\n",
       "F    60520\n",
       "I    35874\n",
       "J    30373\n",
       "E    21871\n",
       "K    13535\n",
       "L     4872\n",
       "D     3202\n",
       "M     1971\n",
       "N      380\n",
       "C      204\n",
       "A      116\n",
       "O       96\n",
       "R       55\n",
       "B       14\n",
       "P        3\n",
       "Q        1\n",
       "Name: cat1, dtype: int64"
      ]
     },
     "execution_count": 21,
     "metadata": {},
     "output_type": "execute_result"
    }
   ],
   "source": [
    "## for cat106\n",
    "\n",
    "data.groupby('cat106').count()['cat1'].sort_values(ascending = False)"
   ]
  },
  {
   "cell_type": "code",
   "execution_count": 22,
   "metadata": {},
   "outputs": [],
   "source": [
    "ind = data.groupby('cat106').count()['cat1'].sort_values(ascending = False)[:7].index\n",
    "def fn(x):\n",
    "    if x in ind:\n",
    "        return(x)\n",
    "    else: return('Other')\n",
    "data['cat106'] = data['cat106'].apply(lambda x: fn(x))"
   ]
  },
  {
   "cell_type": "code",
   "execution_count": 23,
   "metadata": {},
   "outputs": [
    {
     "data": {
      "text/plain": [
       "cat107\n",
       "F    78863\n",
       "G    47225\n",
       "H    39144\n",
       "J    37430\n",
       "K    33908\n",
       "I    33409\n",
       "E    20691\n",
       "L    11849\n",
       "D     5388\n",
       "M     3456\n",
       "N     1330\n",
       "C      340\n",
       "Q      254\n",
       "O      223\n",
       "P      166\n",
       "A      116\n",
       "U       55\n",
       "R       10\n",
       "B        4\n",
       "S        3\n",
       "Name: cat1, dtype: int64"
      ]
     },
     "execution_count": 23,
     "metadata": {},
     "output_type": "execute_result"
    }
   ],
   "source": [
    "## for cat107\n",
    "\n",
    "data.groupby('cat107').count()['cat1'].sort_values(ascending = False)"
   ]
  },
  {
   "cell_type": "code",
   "execution_count": 24,
   "metadata": {},
   "outputs": [],
   "source": [
    "ind = data.groupby('cat107').count()['cat1'].sort_values(ascending = False)[:8].index\n",
    "def fn(x):\n",
    "    if x in ind:\n",
    "        return(x)\n",
    "    else: return('Other')\n",
    "data['cat107'] = data['cat107'].apply(lambda x: fn(x))"
   ]
  },
  {
   "cell_type": "code",
   "execution_count": 25,
   "metadata": {},
   "outputs": [
    {
     "data": {
      "text/plain": [
       "cat108\n",
       "B    108731\n",
       "K     71158\n",
       "G     35899\n",
       "D     31948\n",
       "F     16971\n",
       "A     15417\n",
       "E     13260\n",
       "I     12070\n",
       "H      7180\n",
       "C       884\n",
       "J       346\n",
       "Name: cat1, dtype: int64"
      ]
     },
     "execution_count": 25,
     "metadata": {},
     "output_type": "execute_result"
    }
   ],
   "source": [
    "## for cat108\n",
    "\n",
    "data.groupby('cat108').count()['cat1'].sort_values(ascending = False)"
   ]
  },
  {
   "cell_type": "code",
   "execution_count": 26,
   "metadata": {},
   "outputs": [],
   "source": [
    "ind = data.groupby('cat108').count()['cat1'].sort_values(ascending = False)[:8].index\n",
    "def fn(x):\n",
    "    if x in ind:\n",
    "        return(x)\n",
    "    else: return('Other')\n",
    "data['cat108'] = data['cat108'].apply(lambda x: fn(x))"
   ]
  },
  {
   "cell_type": "code",
   "execution_count": 27,
   "metadata": {},
   "outputs": [
    {
     "data": {
      "text/plain": [
       "cat111\n",
       "A    214421\n",
       "C     53724\n",
       "E     24475\n",
       "G     11599\n",
       "I      6051\n",
       "K      2177\n",
       "M       784\n",
       "O       348\n",
       "Q       141\n",
       "S        68\n",
       "Name: cat1, dtype: int64"
      ]
     },
     "execution_count": 27,
     "metadata": {},
     "output_type": "execute_result"
    }
   ],
   "source": [
    "## for cat111\n",
    "\n",
    "data.groupby('cat111').count()['cat1'].sort_values(ascending = False)[:10]"
   ]
  },
  {
   "cell_type": "code",
   "execution_count": 28,
   "metadata": {},
   "outputs": [],
   "source": [
    "ind = data.groupby('cat111').count()['cat1'].sort_values(ascending = False)[:4].index\n",
    "def fn(x):\n",
    "    if x in ind:\n",
    "        return(x)\n",
    "    else: return('Other')\n",
    "data['cat111'] = data['cat111'].apply(lambda x: fn(x))"
   ]
  },
  {
   "cell_type": "code",
   "execution_count": 29,
   "metadata": {},
   "outputs": [
    {
     "data": {
      "text/plain": [
       "cat114\n",
       "A    219707\n",
       "C     27746\n",
       "E     27469\n",
       "J     13570\n",
       "F     13439\n",
       "N      4097\n",
       "I      4012\n",
       "R      1457\n",
       "L      1426\n",
       "U       398\n",
       "Name: cat1, dtype: int64"
      ]
     },
     "execution_count": 29,
     "metadata": {},
     "output_type": "execute_result"
    }
   ],
   "source": [
    "## for cat114\n",
    "\n",
    "data.groupby('cat114').count()['cat1'].sort_values(ascending = False)[:10]"
   ]
  },
  {
   "cell_type": "code",
   "execution_count": 30,
   "metadata": {},
   "outputs": [],
   "source": [
    "ind = data.groupby('cat114').count()['cat1'].sort_values(ascending = False)[:5].index\n",
    "def fn(x):\n",
    "    if x in ind:\n",
    "        return(x)\n",
    "    else: return('Other')\n",
    "data['cat114'] = data['cat114'].apply(lambda x: fn(x))"
   ]
  },
  {
   "cell_type": "code",
   "execution_count": 31,
   "metadata": {},
   "outputs": [
    {
     "data": {
      "text/plain": [
       "cat115\n",
       "K    73027\n",
       "O    44746\n",
       "J    39626\n",
       "N    37422\n",
       "P    36368\n",
       "L    26643\n",
       "M    20720\n",
       "Q    13724\n",
       "I    11721\n",
       "H     4696\n",
       "Name: cat1, dtype: int64"
      ]
     },
     "execution_count": 31,
     "metadata": {},
     "output_type": "execute_result"
    }
   ],
   "source": [
    "## for cat115\n",
    "\n",
    "data.groupby('cat115').count()['cat1'].sort_values(ascending = False)[:10]"
   ]
  },
  {
   "cell_type": "code",
   "execution_count": 32,
   "metadata": {},
   "outputs": [],
   "source": [
    "ind = data.groupby('cat115').count()['cat1'].sort_values(ascending = False)[:9].index\n",
    "def fn(x):\n",
    "    if x in ind:\n",
    "        return(x)\n",
    "    else: return('Other')\n",
    "data['cat115'] = data['cat115'].apply(lambda x: fn(x))"
   ]
  },
  {
   "cell_type": "code",
   "execution_count": 33,
   "metadata": {},
   "outputs": [
    {
     "data": {
      "text/plain": [
       "cat109\n",
       "BI    255052\n",
       "AB     36289\n",
       "BU      5316\n",
       "K       4956\n",
       "G       2264\n",
       "BQ      1788\n",
       "N        763\n",
       "M        739\n",
       "BO       549\n",
       "BH       421\n",
       "Name: cat1, dtype: int64"
      ]
     },
     "execution_count": 33,
     "metadata": {},
     "output_type": "execute_result"
    }
   ],
   "source": [
    "## for cat109\n",
    "\n",
    "data.groupby('cat109').count()['cat1'].sort_values(ascending = False)[:10]"
   ]
  },
  {
   "cell_type": "code",
   "execution_count": 34,
   "metadata": {},
   "outputs": [],
   "source": [
    "def fn(x):\n",
    "    if x == 'BI':\n",
    "        return('BI')\n",
    "    elif x == 'AB':\n",
    "        return('AB')\n",
    "    else: return('Other')\n",
    "data['cat109'] = data['cat109'].apply(lambda x: fn(x))"
   ]
  },
  {
   "cell_type": "code",
   "execution_count": 35,
   "metadata": {},
   "outputs": [
    {
     "data": {
      "text/plain": [
       "cat110\n",
       "CL    42097\n",
       "CS    40996\n",
       "EG    40885\n",
       "EB    35965\n",
       "CO    29216\n",
       "BT    27267\n",
       "EL    15203\n",
       "BC     6857\n",
       "DW     6005\n",
       "CQ     5437\n",
       "Name: cat1, dtype: int64"
      ]
     },
     "execution_count": 35,
     "metadata": {},
     "output_type": "execute_result"
    }
   ],
   "source": [
    "## for cat110\n",
    "\n",
    "data.groupby('cat110').count()['cat1'].sort_values(ascending = False)[:10]"
   ]
  },
  {
   "cell_type": "code",
   "execution_count": 36,
   "metadata": {},
   "outputs": [],
   "source": [
    "ind = data.groupby('cat110').count()['cat1'].sort_values(ascending = False)[:7].index\n",
    "def fn(x):\n",
    "    if x in ind:\n",
    "        return(x)\n",
    "    else: return('Other')\n",
    "data['cat110'] = data['cat110'].apply(lambda x: fn(x))"
   ]
  },
  {
   "cell_type": "code",
   "execution_count": 37,
   "metadata": {},
   "outputs": [
    {
     "data": {
      "text/plain": [
       "cat112\n",
       "E     42109\n",
       "AH    31149\n",
       "AS    29310\n",
       "J     27074\n",
       "AF    15498\n",
       "AN    15320\n",
       "N     13924\n",
       "U     13901\n",
       "AV    11968\n",
       "AK    11069\n",
       "K     10124\n",
       "AI     7977\n",
       "S      7107\n",
       "AP     6618\n",
       "G      5268\n",
       "F      5226\n",
       "AW     5177\n",
       "A      4059\n",
       "AR     3921\n",
       "C      3745\n",
       "Name: cat1, dtype: int64"
      ]
     },
     "execution_count": 37,
     "metadata": {},
     "output_type": "execute_result"
    }
   ],
   "source": [
    "## for cat112\n",
    "\n",
    "data.groupby('cat112').count()['cat1'].sort_values(ascending = False)[:20]"
   ]
  },
  {
   "cell_type": "code",
   "execution_count": 38,
   "metadata": {},
   "outputs": [],
   "source": [
    "ind = data.groupby('cat112').count()['cat1'].sort_values(ascending = False)[:11].index\n",
    "def fn(x):\n",
    "    if x in ind:\n",
    "        return(x)\n",
    "    else: return('Other')\n",
    "data['cat112'] = data['cat112'].apply(lambda x: fn(x))"
   ]
  },
  {
   "cell_type": "code",
   "execution_count": 39,
   "metadata": {},
   "outputs": [
    {
     "data": {
      "text/plain": [
       "cat113\n",
       "BM    43756\n",
       "AE    36915\n",
       "L     21838\n",
       "AX    21054\n",
       "Y     19146\n",
       "K     12785\n",
       "X     11670\n",
       "S     11645\n",
       "AF    10043\n",
       "AN     8701\n",
       "Name: cat1, dtype: int64"
      ]
     },
     "execution_count": 39,
     "metadata": {},
     "output_type": "execute_result"
    }
   ],
   "source": [
    "## for cat113\n",
    "\n",
    "data.groupby('cat113').count()['cat1'].sort_values(ascending = False)[:10]"
   ]
  },
  {
   "cell_type": "code",
   "execution_count": 40,
   "metadata": {},
   "outputs": [],
   "source": [
    "ind = data.groupby('cat113').count()['cat1'].sort_values(ascending = False)[:9].index\n",
    "def fn(x):\n",
    "    if x in ind:\n",
    "        return(x)\n",
    "    else: return('Other')\n",
    "data['cat113'] = data['cat113'].apply(lambda x: fn(x))"
   ]
  },
  {
   "cell_type": "code",
   "execution_count": 41,
   "metadata": {},
   "outputs": [
    {
     "data": {
      "text/plain": [
       "cat116\n",
       "HK    35076\n",
       "DJ    33974\n",
       "CK    16847\n",
       "DP    15387\n",
       "GS    14649\n",
       "CR    11411\n",
       "HX     9301\n",
       "DC     7543\n",
       "HG     7361\n",
       "IE     7111\n",
       "Name: cat1, dtype: int64"
      ]
     },
     "execution_count": 41,
     "metadata": {},
     "output_type": "execute_result"
    }
   ],
   "source": [
    "## for cat116\n",
    "\n",
    "data.groupby('cat116').count()['cat1'].sort_values(ascending = False)[:10]"
   ]
  },
  {
   "cell_type": "code",
   "execution_count": 42,
   "metadata": {},
   "outputs": [],
   "source": [
    "ind = data.groupby('cat116').count()['cat1'].sort_values(ascending = False)[:7].index\n",
    "def fn(x):\n",
    "    if x in ind:\n",
    "        return(x)\n",
    "    else: return('Other')\n",
    "data['cat116'] = data['cat116'].apply(lambda x: fn(x))"
   ]
  },
  {
   "cell_type": "code",
   "execution_count": 43,
   "metadata": {},
   "outputs": [],
   "source": [
    "## Now we import the standard scaler\n",
    "\n",
    "from sklearn.preprocessing import StandardScaler\n",
    "scaler = StandardScaler()"
   ]
  },
  {
   "cell_type": "code",
   "execution_count": 44,
   "metadata": {},
   "outputs": [],
   "source": [
    "## And scale all the numeric values to match standard normal distribution\n",
    "\n",
    "num =  data.dtypes[data.dtypes == 'float64'].index\n",
    "scaler.fit(data[num])\n",
    "data[num] = scaler.transform(data[num])"
   ]
  },
  {
   "cell_type": "code",
   "execution_count": 45,
   "metadata": {},
   "outputs": [],
   "source": [
    "## We one hot encode our data and remove the first column to remove multi-collinearity\n",
    "\n",
    "data = pd.get_dummies(data, drop_first=True)"
   ]
  },
  {
   "cell_type": "code",
   "execution_count": 46,
   "metadata": {},
   "outputs": [],
   "source": [
    "## Now we define our features x and test data\n",
    "\n",
    "x = data[:len(train)]\n",
    "test = data[len(train):]"
   ]
  },
  {
   "cell_type": "code",
   "execution_count": 51,
   "metadata": {},
   "outputs": [],
   "source": [
    "## Now we begin to import all the regression libraries. We choose to apply regression manually here."
   ]
  },
  {
   "cell_type": "code",
   "execution_count": 52,
   "metadata": {},
   "outputs": [
    {
     "name": "stdout",
     "output_type": "stream",
     "text": [
      "425429064.49669945\n"
     ]
    }
   ],
   "source": [
    "## We can now train various machine learning models. We see that \n",
    "\n",
    "from sklearn.linear_model import LinearRegression\n",
    "LR = LinearRegression()\n",
    "n_folds = 5\n",
    "from sklearn.model_selection import cross_val_score\n",
    "print(np.sqrt(-cross_val_score(LR, x, y, scoring= \"neg_mean_squared_error\", cv = n_folds)).mean())"
   ]
  },
  {
   "cell_type": "code",
   "execution_count": null,
   "metadata": {},
   "outputs": [],
   "source": [
    "# import xgboost as xgb"
   ]
  },
  {
   "cell_type": "code",
   "execution_count": null,
   "metadata": {},
   "outputs": [],
   "source": [
    "# xgb = xgb.XGBRegressor()\n",
    "# n_folds = 5\n",
    "# from sklearn.model_selection import cross_val_score\n",
    "# print(np.sqrt(-cross_val_score(xgb, x, y, scoring= \"neg_mean_squared_error\", cv = n_folds)).mean())"
   ]
  },
  {
   "cell_type": "code",
   "execution_count": null,
   "metadata": {},
   "outputs": [],
   "source": [
    "#model = xgb.fit(x,y)"
   ]
  },
  {
   "cell_type": "code",
   "execution_count": null,
   "metadata": {},
   "outputs": [],
   "source": [
    "#pred = model.predict(test)"
   ]
  },
  {
   "cell_type": "code",
   "execution_count": null,
   "metadata": {},
   "outputs": [],
   "source": [
    "#pred2 = np.expm1(pred)"
   ]
  },
  {
   "cell_type": "code",
   "execution_count": null,
   "metadata": {},
   "outputs": [],
   "source": [
    "#submission.to_csv('sub_v.csv', index=False)"
   ]
  }
 ],
 "metadata": {
  "kernelspec": {
   "display_name": "Python 3",
   "language": "python",
   "name": "python3"
  },
  "language_info": {
   "codemirror_mode": {
    "name": "ipython",
    "version": 3
   },
   "file_extension": ".py",
   "mimetype": "text/x-python",
   "name": "python",
   "nbconvert_exporter": "python",
   "pygments_lexer": "ipython3",
   "version": "3.7.6"
  }
 },
 "nbformat": 4,
 "nbformat_minor": 4
}
